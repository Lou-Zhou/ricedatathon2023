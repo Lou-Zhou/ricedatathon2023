{
 "cells": [
  {
   "cell_type": "code",
   "execution_count": 114,
   "metadata": {},
   "outputs": [],
   "source": [
    "import pandas as pd\n",
    "import numpy as np \n",
    "import choix\n",
    "import warnings\n",
    "from pandas.errors import SettingWithCopyWarning\n",
    "\n",
    "warnings.simplefilter(action=\"ignore\", category=SettingWithCopyWarning)\n"
   ]
  },
  {
   "cell_type": "code",
   "execution_count": 115,
   "metadata": {},
   "outputs": [],
   "source": [
    "data = pd.read_csv(\"/Users/louzhou/Downloads/datathon_2024_dataset (1).csv\")"
   ]
  },
  {
   "cell_type": "code",
   "execution_count": 116,
   "metadata": {},
   "outputs": [],
   "source": [
    "data['game_date'] = data['game_date'].astype(str)\n",
    "data['year'] = data['game_date'].str[:4].astype(int)\n",
    "data['month'] = data['game_date'].str[4:6].astype(int)\n",
    "data['day'] = data['game_date'].str[6:8].astype(int)"
   ]
  },
  {
   "cell_type": "code",
   "execution_count": 117,
   "metadata": {},
   "outputs": [],
   "source": [
    "def getwinner(data):\n",
    "    if data[\"score_diff\"] > 0:\n",
    "        output = [data[\"home_team_index\"], data[\"away_team_index\"\n",
    "                                                ]]\n",
    "    else:\n",
    "        output = [data[\"away_team_index\"], data[\"home_team_index\"]]\n",
    "    return output\n",
    "def getindexlist(data):\n",
    "    output = [data[\"home_team_index\"], data[\"away_team_index\"]]\n",
    "    return output"
   ]
  },
  {
   "cell_type": "code",
   "execution_count": 118,
   "metadata": {},
   "outputs": [],
   "source": [
    "def getoddswinner(data):\n",
    "    probhomewin, probawaywin = choix.probabilities(data[\"home,away\"], strength)\n",
    "    return probhomewin\n"
   ]
  },
  {
   "cell_type": "code",
   "execution_count": 119,
   "metadata": {},
   "outputs": [],
   "source": [
    "def get_bt_winner(data):\n",
    "    teamindex = {}\n",
    "    index = 0\n",
    "    for team in data[\"home_team\"].unique():\n",
    "        teamindex[team] = index\n",
    "        index = index + 1\n",
    "    data[\"home_team_index\"] = data[\"home_team\"].map(teamindex)\n",
    "    data[\"away_team_index\"] = data[\"away_team\"].map(teamindex)\n",
    "    data[\"score_diff\"] = data[\"home_score\"] - data[\"away_score\"]\n",
    "    data[\"cleaned\"] = data.apply(getwinner, axis = 1)\n",
    "    data[\"home,away\"] = data.apply(getindexlist, axis = 1)\n",
    "    bt_data = data[\"cleaned\"].tolist()\n",
    "    numteams = len(data[\"home_team\"].unique())\n",
    "    strength = choix.ilsr_pairwise(numteams, bt_data, alpha=0.01)\n",
    "    data[\"homewinp\"] = data.apply(getoddswinner, axis = 1)\n",
    "    return data\n",
    "    "
   ]
  },
  {
   "cell_type": "code",
   "execution_count": 120,
   "metadata": {},
   "outputs": [],
   "source": [
    "final_data = pd.DataFrame()\n",
    "for year in data[\"year\"].unique():\n",
    "    seasondf = data[data[\"year\"] == year]\n",
    "    season_bt = get_bt_winner(seasondf)\n",
    "    final_data = pd.concat([final_data, season_bt])\n"
   ]
  },
  {
   "cell_type": "code",
   "execution_count": 121,
   "metadata": {},
   "outputs": [
    {
     "data": {
      "text/plain": [
       "0        0.668397\n",
       "1        0.331603\n",
       "2        0.571591\n",
       "3        0.564251\n",
       "4        0.391873\n",
       "           ...   \n",
       "56770    0.452701\n",
       "56771    0.419913\n",
       "56772    0.365621\n",
       "56773    0.618385\n",
       "56774    0.559555\n",
       "Name: homewinp, Length: 56775, dtype: float64"
      ]
     },
     "execution_count": 121,
     "metadata": {},
     "output_type": "execute_result"
    }
   ],
   "source": [
    "final_data[\"homewinp\"]"
   ]
  },
  {
   "cell_type": "code",
   "execution_count": 122,
   "metadata": {},
   "outputs": [
    {
     "data": {
      "text/plain": [
       "4.399392654950479"
      ]
     },
     "execution_count": 122,
     "metadata": {},
     "output_type": "execute_result"
    }
   ],
   "source": [
    "data[\"score_diff\"] = data[\"home_score\"] - data[\"away_score\"]\n",
    "data[\"score_diff\"].std()"
   ]
  },
  {
   "cell_type": "code",
   "execution_count": 123,
   "metadata": {},
   "outputs": [
    {
     "data": {
      "text/plain": [
       "0.13076177895200353"
      ]
     },
     "execution_count": 123,
     "metadata": {},
     "output_type": "execute_result"
    }
   ],
   "source": [
    "data[\"score_diff\"].mean()"
   ]
  },
  {
   "cell_type": "code",
   "execution_count": 124,
   "metadata": {},
   "outputs": [
    {
     "data": {
      "text/plain": [
       "0        0\n",
       "1        0\n",
       "2        1\n",
       "3        0\n",
       "4        1\n",
       "        ..\n",
       "56770    0\n",
       "56771    1\n",
       "56772    1\n",
       "56773    1\n",
       "56774    0\n",
       "Name: winner, Length: 56775, dtype: int64"
      ]
     },
     "execution_count": 124,
     "metadata": {},
     "output_type": "execute_result"
    }
   ],
   "source": [
    "def winner(data):\n",
    "    if data[\"score_diff\"] > 0:\n",
    "        return 1\n",
    "    else:\n",
    "        return 0\n",
    "final_data[\"winner\"] = final_data.apply(winner, axis = 1)\n",
    "final_data[\"winner\"]\n"
   ]
  },
  {
   "cell_type": "code",
   "execution_count": 125,
   "metadata": {},
   "outputs": [
    {
     "data": {
      "text/plain": [
       "0.5189047466368881"
      ]
     },
     "execution_count": 125,
     "metadata": {},
     "output_type": "execute_result"
    }
   ],
   "source": [
    "final_data[[\"winner\", \"homewinp\"]]\n",
    "from sklearn.metrics import log_loss, mean_squared_error, roc_auc_score\n",
    "roc_auc_score(final_data[\"winner\"], final_data[\"homewinp\"])\n",
    "\n"
   ]
  }
 ],
 "metadata": {
  "kernelspec": {
   "display_name": "base",
   "language": "python",
   "name": "python3"
  },
  "language_info": {
   "codemirror_mode": {
    "name": "ipython",
    "version": 3
   },
   "file_extension": ".py",
   "mimetype": "text/x-python",
   "name": "python",
   "nbconvert_exporter": "python",
   "pygments_lexer": "ipython3",
   "version": "3.11.7"
  }
 },
 "nbformat": 4,
 "nbformat_minor": 2
}
